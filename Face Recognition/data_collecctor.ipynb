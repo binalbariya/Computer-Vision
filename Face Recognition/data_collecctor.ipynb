{
 "cells": [
  {
   "cell_type": "code",
   "execution_count": 12,
   "metadata": {},
   "outputs": [
    {
     "name": "stdin",
     "output_type": "stream",
     "text": [
      "enter your name here modi\n"
     ]
    }
   ],
   "source": [
    "# face recognition is same as digit classification(mnist dataset)\n",
    "import cv2\n",
    "import numpy as np\n",
    "import os \n",
    "\n",
    "\n",
    "cap = cv2.VideoCapture(0)\n",
    "detector = cv2.CascadeClassifier(r\"C:\\Users\\Binal Bariya\\Desktop\\Projects\\Computer Vision\\haarcascade_frontalface_default.xml\")\n",
    "\n",
    "name = input(\"enter your name here\")\n",
    "frames=[]\n",
    "outputs=[]"
   ]
  },
  {
   "cell_type": "code",
   "execution_count": 13,
   "metadata": {},
   "outputs": [],
   "source": [
    "while True:\n",
    "    ret,frame =cap.read()\n",
    "    if ret:\n",
    "        faces = detector.detectMultiScale(frame)\n",
    "        for face in faces:\n",
    "            x,y,w,h = face\n",
    "            cut = frame[y:y+h,x:x+w]\n",
    "            fix = cv2.resize(cut,(100,100))\n",
    "            gray = cv2.cvtColor(fix,cv2.COLOR_BGR2GRAY)\n",
    "        cv2.imshow(\"my screen\",frame)\n",
    "        cv2.imshow(\"myface\",gray)    \n",
    "        \n",
    "    key  = cv2.waitKey(1)\n",
    "    if key==ord('q'):\n",
    "        break\n",
    "    \n",
    "    if key==ord('c'):\n",
    "        frames.append(gray.flatten())\n",
    "        outputs.append([name])\n",
    "    \n",
    "X= np.array(frames)\n",
    "y=np.array(outputs)\n",
    "data = np.hstack([y,X])\n",
    "#print(data.shape)\n",
    "f_name= \"face_data.npy\"\n",
    "if os.path.exists(f_name):\n",
    "    old= np.load(f_name)\n",
    "    data = np.vstack([old,data])\n",
    "np.save(f_name,data)\n",
    "cap.release()\n",
    "cv2.destroyAllWindows()"
   ]
  },
  {
   "cell_type": "code",
   "execution_count": null,
   "metadata": {},
   "outputs": [],
   "source": []
  }
 ],
 "metadata": {
  "kernelspec": {
   "display_name": "Python 3",
   "language": "python",
   "name": "python3"
  },
  "language_info": {
   "codemirror_mode": {
    "name": "ipython",
    "version": 3
   },
   "file_extension": ".py",
   "mimetype": "text/x-python",
   "name": "python",
   "nbconvert_exporter": "python",
   "pygments_lexer": "ipython3",
   "version": "3.7.6"
  }
 },
 "nbformat": 4,
 "nbformat_minor": 4
}
