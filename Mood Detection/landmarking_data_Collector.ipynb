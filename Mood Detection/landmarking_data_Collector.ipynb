{
 "cells": [
  {
   "cell_type": "code",
   "execution_count": 5,
   "metadata": {},
   "outputs": [
    {
     "name": "stdout",
     "output_type": "stream",
     "text": [
      "Requirement already satisfied: dlib in c:\\users\\binal bariya\\anaconda3\\lib\\site-packages (19.20.0)\n"
     ]
    }
   ],
   "source": [
    "!pip install dlib \n",
    "import cv2\n",
    "import dlib\n",
    "import numpy as np\n",
    "import os"
   ]
  },
  {
   "cell_type": "code",
   "execution_count": 6,
   "metadata": {},
   "outputs": [
    {
     "name": "stdin",
     "output_type": "stream",
     "text": [
      "Enter your mood:  sad\n"
     ]
    }
   ],
   "source": [
    "detector = dlib.get_frontal_face_detector()\n",
    "predictor = dlib.shape_predictor(\"shape_predictor_68_face_landmarks.dat\")\n",
    "cap = cv2.VideoCapture(0)\n",
    "mood = input(\"Enter your mood: \")\n",
    "frames=[]\n",
    "outputs=[]"
   ]
  },
  {
   "cell_type": "code",
   "execution_count": 7,
   "metadata": {},
   "outputs": [],
   "source": [
    "while True:\n",
    "    ret,frame = cap.read()\n",
    "    gray = cv2.cvtColor(frame,cv2.COLOR_BGR2GRAY)\n",
    "    faces = detector(gray)\n",
    "    for face in faces:\n",
    "        landmarks = predictor(gray,face)\n",
    "        #print(landmarks.parts())\n",
    "        #nose = landmarks.parts()[27]\n",
    "        #print(nose.x,nose.y)\n",
    "        expression = np.array([[point.x-face.left() ,point.y-face.top()]for point in landmarks.parts()[17:]])\n",
    "    \n",
    "    #print(faces)\n",
    "    if ret:\n",
    "        cv2.imshow(\"My Screen\",frame)\n",
    "    key = cv2.waitKey(1)\n",
    "    if key==ord('q'):\n",
    "        break\n",
    "    if key==ord('c'):\n",
    "        frames.append(expression.flatten())\n",
    "        outputs.append([mood])\n",
    "X = np.array(frames)\n",
    "y = np.array(outputs)\n",
    "\n",
    "data  = np.hstack([y,X])\n",
    "f_name = \"face_mood.npy\"\n",
    "if os.path.exists(f_name):\n",
    "    old = np.load(f_name)\n",
    "    data = np.vstack([old,data])\n",
    "np.save(f_name,data)\n",
    "        \n",
    "cap.release()\n",
    "cv2.destroyAllWindows()"
   ]
  },
  {
   "cell_type": "code",
   "execution_count": null,
   "metadata": {},
   "outputs": [],
   "source": []
  },
  {
   "cell_type": "code",
   "execution_count": null,
   "metadata": {},
   "outputs": [],
   "source": []
  }
 ],
 "metadata": {
  "kernelspec": {
   "display_name": "Python 3",
   "language": "python",
   "name": "python3"
  },
  "language_info": {
   "codemirror_mode": {
    "name": "ipython",
    "version": 3
   },
   "file_extension": ".py",
   "mimetype": "text/x-python",
   "name": "python",
   "nbconvert_exporter": "python",
   "pygments_lexer": "ipython3",
   "version": "3.7.6"
  }
 },
 "nbformat": 4,
 "nbformat_minor": 4
}
