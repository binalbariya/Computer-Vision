{
 "cells": [
  {
   "cell_type": "code",
   "execution_count": 4,
   "metadata": {},
   "outputs": [
    {
     "name": "stdout",
     "output_type": "stream",
     "text": [
      "Requirement already satisfied: keyboard in c:\\users\\binal bariya\\anaconda3\\lib\\site-packages (0.13.5)\n"
     ]
    }
   ],
   "source": [
    "#!pip install dlib\n",
    "!pip install keyboard\n",
    "import cv2\n",
    "import dlib\n",
    "import keyboard\n",
    "\n",
    "detector = dlib.get_frontal_face_detector()\n",
    "predictor = dlib.shape_predictor(\"shape_predictor_68_face_landmarks.dat\")\n",
    "cap = cv2.VideoCapture(0)"
   ]
  },
  {
   "cell_type": "code",
   "execution_count": 5,
   "metadata": {},
   "outputs": [],
   "source": [
    "while True:\n",
    "    ret,frame = cap.read()\n",
    "    gray = cv2.cvtColor(frame,cv2.COLOR_BGR2GRAY)\n",
    "    faces = detector(gray)\n",
    "    for face in faces:\n",
    "        landmarks = predictor(gray,face)\n",
    "        #print(landmarks.parts())\n",
    "        #nose = landmarks.parts()[27]\n",
    "        #print(nose.x,nose.y)\n",
    "        lip_up = landmarks.parts()[62].y\n",
    "        lip_down= landmarks.parts()[66].y\n",
    "        \n",
    "        if lip_down-lip_up>5:\n",
    "            keyboard.release(\"down\")\n",
    "        else:\n",
    "            keyboard.press(\"down\")\n",
    "        \n",
    "        #for point in landmarks.parts()[48:]:\n",
    "         #   cv2.circle(frame,(point.x,point.y),2,(255,0,0),3)\n",
    "    #print(faces)\n",
    "    if ret:\n",
    "        cv2.imshow(\"My Screen\",frame)\n",
    "    key = cv2.waitKey(1)\n",
    "    if key==ord('q'):\n",
    "        break\n",
    "cap.release()\n",
    "cv2.destroyAllWindows()"
   ]
  },
  {
   "cell_type": "code",
   "execution_count": null,
   "metadata": {},
   "outputs": [],
   "source": []
  }
 ],
 "metadata": {
  "kernelspec": {
   "display_name": "Python 3",
   "language": "python",
   "name": "python3"
  },
  "language_info": {
   "codemirror_mode": {
    "name": "ipython",
    "version": 3
   },
   "file_extension": ".py",
   "mimetype": "text/x-python",
   "name": "python",
   "nbconvert_exporter": "python",
   "pygments_lexer": "ipython3",
   "version": "3.7.6"
  }
 },
 "nbformat": 4,
 "nbformat_minor": 4
}
